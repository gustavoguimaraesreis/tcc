{
 "cells": [
  {
   "cell_type": "code",
   "execution_count": 39,
   "metadata": {},
   "outputs": [
    {
     "name": "stdout",
     "output_type": "stream",
     "text": [
      "Date            object\n",
      "TweetId          int64\n",
      "TweetContent    object\n",
      "Username        object\n",
      "URL             object\n",
      "dtype: object\n",
      "0    01/04/2021\n",
      "1    28/03/2021\n",
      "2    25/03/2021\n",
      "3    23/03/2021\n",
      "4    22/03/2021\n",
      "5    20/03/2021\n",
      "6    19/03/2021\n",
      "7    17/03/2021\n",
      "8    06/03/2021\n",
      "9    02/03/2021\n",
      "Name: Date, dtype: object\n"
     ]
    }
   ],
   "source": [
    "import pandas as pd\n",
    "import numpy as np \n",
    "from datetime import datetime\n",
    "import seaborn as sns \n",
    "import matplotlib.pyplot as plt \n",
    "\n",
    "sns.set_theme(style=\"whitegrid\") \n",
    "\n",
    "tweets = pd.read_json(\"tweets/facebook/tres-meses/facebook data leak_2021-01-02_2021-04-02.json\",\n",
    "                     lines=True, nrows=10, convert_dates=False)\n",
    "# print(tweets)\n",
    "# formato: Anodsfdsf/mes/dia\n",
    "\n",
    "print(tweets.dtypes)\n",
    "# tweets['Date'] = tweets['Date'].strftime(\"%m/%d/%Y\")\n",
    "# tweets['Date'] = pd.to_datetime(tweets['Date'])\n",
    "for column in tweets.columns[0:1]:\n",
    "    print(tweets[column])\n",
    "# tweets['Date'] = tweets['Date'].dt.strftime('%Y-%m-%d')\n",
    "# tweets['Date'] = pd.to_datetime(tweets.Date, format='%Y-%m-%d')\n",
    "# for ind in tweets:\n",
    "#     print(tweets['Date'])\n",
    "    # tweets['Date'] = datetime.strptime(tweets['Date'], '%m/%d/%Y')\n",
    "    # print(tweets['Date'] [ind])\n",
    "    # tweet.date = datetime.strptime(tweet.date, '%m/%d/%Y')\n",
    "\n",
    "# tweets['Month'] = tweets['Date'].dt.month\n",
    "\n",
    "# for ind2 in tweets:\n",
    "#     print(tweets['Month'])\n",
    "# tweets['MonthName'] = tweets['Date'].dt.month_name() \n",
    "# tweets['MonthDay'] = tweets['Date'].dt.day \n",
    "# tweets['DayName'] = tweets['Date'].dt.day_name() \n",
    "# tweets['Week'] = tweets['Date'].dt.isocalendar().week \n",
    "# dropa a coluna DateTime\n",
    "\n",
    "\n",
    "# tweets.drop('Date',axis=1,inplace=True) \n",
    "\n",
    "# f, ax = plt.subplots(figsize=(15, 10))\n",
    "\n",
    "# sns.countplot(x= tweets['Month'])\n",
    "\n",
    "# for p in ax.patches:\n",
    "#     ax.annotate(int(p.get_height()), (p.get_x()+0.05, p.get_height()+20), fontsize = 12)  "
   ]
  },
  {
   "cell_type": "code",
   "execution_count": null,
   "metadata": {},
   "outputs": [],
   "source": []
  }
 ],
 "metadata": {
  "kernelspec": {
   "display_name": "Python 3",
   "language": "python",
   "name": "python3"
  },
  "language_info": {
   "codemirror_mode": {
    "name": "ipython",
    "version": 3
   },
   "file_extension": ".py",
   "mimetype": "text/x-python",
   "name": "python",
   "nbconvert_exporter": "python",
   "pygments_lexer": "ipython3",
   "version": "3.11.3"
  },
  "orig_nbformat": 4
 },
 "nbformat": 4,
 "nbformat_minor": 2
}
